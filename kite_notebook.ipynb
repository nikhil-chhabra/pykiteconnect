{
 "cells": [
  {
   "cell_type": "markdown",
   "metadata": {},
   "source": [
    "# Imports"
   ]
  },
  {
   "cell_type": "code",
   "execution_count": 1,
   "metadata": {},
   "outputs": [],
   "source": [
    "from datetime import datetime,timedelta\n",
    "import pandas as pd\n",
    "from datetime import datetime\n",
    "from dateutil import parser\n",
    "import utils\n",
    "import strategies"
   ]
  },
  {
   "cell_type": "markdown",
   "metadata": {},
   "source": [
    "# Login to Kite"
   ]
  },
  {
   "cell_type": "code",
   "execution_count": 4,
   "metadata": {},
   "outputs": [],
   "source": [
    "kite=utils.login_kite()"
   ]
  },
  {
   "cell_type": "code",
   "execution_count": 5,
   "metadata": {},
   "outputs": [],
   "source": [
    "df_instruments=pd.DataFrame(kite.instruments())\n",
    "df_instruments.to_csv(\"files\\instruments_all.csv\", index=False)"
   ]
  },
  {
   "cell_type": "markdown",
   "metadata": {},
   "source": [
    "# Utility Functions"
   ]
  },
  {
   "cell_type": "code",
   "execution_count": null,
   "metadata": {},
   "outputs": [],
   "source": [
    "buy_shortlist_df, sell_shortlist_df=utils.shortlist_scrips(interval=\"5minute\")"
   ]
  },
  {
   "cell_type": "markdown",
   "metadata": {},
   "source": [
    "# Stop Loss Multiplier Strategy"
   ]
  },
  {
   "cell_type": "markdown",
   "metadata": {},
   "source": [
    "##### Backtesting the SL Multiplier Strategy"
   ]
  },
  {
   "cell_type": "code",
   "execution_count": null,
   "metadata": {},
   "outputs": [],
   "source": [
    "sample_size=1\n",
    "orders=[]\n",
    "for i2,row2 in buy_shortlist_df.iterrows():\n",
    "    instrument_code=row2['instrument_token']\n",
    "    df_candle=pd.DataFrame()\n",
    "    for i in range(sample_size+1):\n",
    "        start=((datetime.now()+timedelta(days=-i)).strftime(\"%Y-%m-%d\"))+\" 09:15:00\"\n",
    "        end=((datetime.now()+timedelta(days=-i)).strftime(\"%Y-%m-%d\"))+\" 15:30:00\"\n",
    "        interval=\"minute\"\n",
    "        df_historical=utils.get_candle(instrument_code,start,end,interval)\n",
    "        df_candle=pd.concat([df_historical,df_candle])\n",
    "    df_candle['date']=df_candle['date'].apply(lambda x: parser.parse(str(x).replace('+05:30','')))\n",
    "    df_candle['day']=df_candle['date'].apply(lambda x: x.date())\n",
    "    df_candle['change']=df_candle['close']-df_candle['open']\n",
    "    for day in df_candle['day'].unique():\n",
    "        filter_df=df_candle[df_candle['day']==day].reset_index(drop=True)\n",
    "        book_price=None\n",
    "        for (i,row) in filter_df.iterrows():\n",
    "            if ((i==0)&(row['change']>0)):\n",
    "                order_price=row['close']\n",
    "                order_type=\"buy\"\n",
    "                stop_loss=row['low']\n",
    "                target_price=order_price+((order_price-stop_loss)*3)\n",
    "            elif ((i==0)&(row['change']<0)):\n",
    "                order_price=row['close']\n",
    "                order_type=\"sell\"\n",
    "                stop_loss=row['high']\n",
    "                target_price=order_price-((stop_loss-order_price)*3)\n",
    "            elif ((i==0)&(row['change']==0)):\n",
    "                pass\n",
    "            else:\n",
    "                if (((order_type==\"sell\")&(row['open']<=target_price))|((order_type==\"sell\")&(row['open']>=stop_loss))):\n",
    "                    book_price=row['open']\n",
    "                    book_time=row['date']\n",
    "                    orders.append({'instrument_code':instrument_code,\n",
    "                                    'order_price':order_price,\n",
    "                                    'order_type':order_type,\n",
    "                                    'stop_loss':stop_loss,\n",
    "                                    'target_price':target_price,\n",
    "                                    'book_price':book_price,\n",
    "                                    'book_time':book_time})\n",
    "                    break\n",
    "                elif (((order_type==\"buy\")&(row['open']>=target_price))|((order_type==\"buy\")&(row['open']<=stop_loss))):\n",
    "                    book_price=row['open']\n",
    "                    book_time=row['date']\n",
    "                    orders.append({'instrument_code':instrument_code,\n",
    "                                    'order_price':order_price,\n",
    "                                    'order_type':order_type,\n",
    "                                    'stop_loss':stop_loss,\n",
    "                                    'target_price':target_price,\n",
    "                                    'book_price':book_price,\n",
    "                                    'book_time':book_time})\n",
    "                    break\n",
    "                else:\n",
    "                    pass\n",
    "        if book_price is None:\n",
    "            book_time=filter_df.loc[len(filter_df)-10,'date']\n",
    "            book_price=filter_df.loc[len(filter_df)-10,'open']\n",
    "            orders.append({'instrument_code':instrument_code,\n",
    "                                    'order_price':order_price,\n",
    "                                    'order_type':order_type,\n",
    "                                    'stop_loss':stop_loss,\n",
    "                                    'target_price':target_price,\n",
    "                                    'book_price':book_price,\n",
    "                                    'book_time':book_time})\n",
    "            \n",
    "orders_df=pd.DataFrame(orders)\n",
    "orders_df.to_clipboard()\n"
   ]
  },
  {
   "cell_type": "markdown",
   "metadata": {},
   "source": [
    "##### Unit Test"
   ]
  },
  {
   "cell_type": "code",
   "execution_count": null,
   "metadata": {},
   "outputs": [],
   "source": [
    "\n",
    "sample_size=1\n",
    "instrument_code=2977281\n",
    "df_candle=pd.DataFrame()\n",
    "orders=[]\n",
    "for i in range(sample_size+1):\n",
    "    start=((datetime.now()+timedelta(days=-i)).strftime(\"%Y-%m-%d\"))+\" 09:15:00\"\n",
    "    end=((datetime.now()+timedelta(days=-i)).strftime(\"%Y-%m-%d\"))+\" 15:30:00\"\n",
    "    interval=\"5minute\"\n",
    "    df_historical=get_candle(instrument_code,start,end,interval)\n",
    "    df_candle=pd.concat([df_historical,df_candle])\n",
    "df_candle['date']=df_candle['date'].apply(lambda x: parser.parse(str(x).replace('+05:30','')))\n",
    "df_candle['day']=df_candle['date'].apply(lambda x: x.date())\n",
    "df_candle['change']=df_candle['close']-df_candle['open']\n",
    "for day in df_candle['day'].unique():\n",
    "    filter_df=df_candle[df_candle['day']==day].reset_index(drop=True)\n",
    "    book_price=None\n",
    "    for (i,row) in filter_df.iterrows():\n",
    "        if ((i==0)&(row['change']>0)):\n",
    "            order_price=row['close']\n",
    "            order_type=\"buy\"\n",
    "            stop_loss=row['low']\n",
    "            target_price=order_price+((order_price-stop_loss)*3)\n",
    "        elif ((i==0)&(row['change']<0)):\n",
    "            order_price=row['close']\n",
    "            order_type=\"sell\"\n",
    "            stop_loss=row['high']\n",
    "            target_price=order_price-((stop_loss-order_price)*3)\n",
    "        elif ((i==0)&(row['change']==0)):\n",
    "            pass\n",
    "        else:\n",
    "            if (((order_type==\"sell\")&(row['open']<=target_price))|((order_type==\"sell\")&(row['open']>=stop_loss))):\n",
    "                book_price=row['open']\n",
    "                book_time=row['date']\n",
    "                orders.append({'instrument_code':instrument_code,\n",
    "                                'order_price':order_price,\n",
    "                                'order_type':order_type,\n",
    "                                'stop_loss':stop_loss,\n",
    "                                'target_price':target_price,\n",
    "                                'book_price':book_price,\n",
    "                                'book_time':book_time})\n",
    "                break\n",
    "            elif (((order_type==\"buy\")&(row['open']>=target_price))|((order_type==\"buy\")&(row['open']<=stop_loss))):\n",
    "                book_price=row['open']\n",
    "                book_time=row['date']\n",
    "                orders.append({'instrument_code':instrument_code,\n",
    "                                'order_price':order_price,\n",
    "                                'order_type':order_type,\n",
    "                                'stop_loss':stop_loss,\n",
    "                                'target_price':target_price,\n",
    "                                'book_price':book_price,\n",
    "                                'book_time':book_time})\n",
    "                break\n",
    "            else:\n",
    "                pass\n",
    "    if book_price is None:\n",
    "        book_time=filter_df.loc[len(filter_df)-10,'date']\n",
    "        book_price=filter_df.loc[len(filter_df)-10,'open']\n",
    "        orders.append({'instrument_code':instrument_code,\n",
    "                                'order_price':order_price,\n",
    "                                'order_type':order_type,\n",
    "                                'stop_loss':stop_loss,\n",
    "                                'target_price':target_price,\n",
    "                                'book_price':book_price,\n",
    "                                'book_time':book_time})\n"
   ]
  },
  {
   "cell_type": "markdown",
   "metadata": {},
   "source": [
    "# Misc Code"
   ]
  },
  {
   "cell_type": "code",
   "execution_count": null,
   "metadata": {},
   "outputs": [],
   "source": [
    "order= strategies.sl_multiplier_strategy(5181953,3)"
   ]
  },
  {
   "cell_type": "code",
   "execution_count": null,
   "metadata": {},
   "outputs": [],
   "source": [
    "buy_shortlist_df"
   ]
  },
  {
   "cell_type": "code",
   "execution_count": null,
   "metadata": {},
   "outputs": [],
   "source": [
    "# Place an order\n",
    "order_id = kite.place_gtt(tradingsymbol=\"INFY\",\n",
    "                            exchange=kite.EXCHANGE_NSE,\n",
    "                            transaction_type=kite.TRANSACTION_TYPE_BUY,\n",
    "                            quantity=1,\n",
    "                            variety=kite.VARIETY_AMO,\n",
    "                            order_type=kite.ORDER_TYPE_MARKET,\n",
    "                            product=kite.PRODUCT_CNC,\n",
    "                            validity=kite.VALIDITY_DAY)\n",
    "\n",
    "\n",
    "# Fetch all orders\n",
    "kite.orders()\n",
    "\n",
    "# Get instruments\n",
    "kite.instruments()\n",
    "\n",
    "# Place an mutual fund order\n",
    "kite.place_mf_order(\n",
    "    tradingsymbol=\"INF090I01239\",\n",
    "    transaction_type=kite.TRANSACTION_TYPE_BUY,\n",
    "    amount=5000,\n",
    "    tag=\"mytag\"\n",
    ")\n",
    "\n",
    "# Cancel a mutual fund order\n",
    "kite.cancel_mf_order(order_id=\"order_id\")\n",
    "\n",
    "# Get mutual fund instruments\n",
    "kite.mf_instruments()"
   ]
  },
  {
   "cell_type": "code",
   "execution_count": 16,
   "metadata": {},
   "outputs": [],
   "source": [
    "trigger_type = 'two-leg'\n",
    "tradingsymbol = 'INFY'\n",
    "exchange = kite.EXCHANGE_NSE\n",
    "trigger_values = [1470,1510]\n",
    "last_price = 1480\n",
    "orders = [\n",
    "  {\n",
    "    \"exchange\": \"NSE\",\n",
    "    \"tradingsymbol\": \"INFY\",\n",
    "    \"transaction_type\": \"BUY\",\n",
    "    \"quantity\": 1,\n",
    "    \"order_type\": \"LIMIT\",\n",
    "    \"product\": \"CNC\",\n",
    "    \"price\": 1495\n",
    "  },\n",
    "  {\n",
    "    \"exchange\": \"NSE\",\n",
    "    \"tradingsymbol\": \"INFY\",\n",
    "    \"transaction_type\": \"BUY\",\n",
    "    \"quantity\": 1,\n",
    "    \"order_type\": \"LIMIT\",\n",
    "    \"product\": \"CNC\",\n",
    "    \"price\": 1497\n",
    "  }\n",
    "]\n",
    "\n",
    "order_id = kite.place_gtt(tradingsymbol=tradingsymbol,\n",
    "                            exchange=kite.EXCHANGE_NSE,\n",
    "                            trigger_type=trigger_type,\n",
    "                            trigger_values=trigger_values,\n",
    "                            last_price=last_price,\n",
    "                            orders=orders)"
   ]
  },
  {
   "cell_type": "code",
   "execution_count": null,
   "metadata": {},
   "outputs": [],
   "source": [
    "from datetime import datetime, time\n",
    "\n",
    "def market_hours():\n",
    "    # Get current time\n",
    "    current_time = datetime.now().time()\n",
    "    \n",
    "    # Define start and end times\n",
    "    start_time = time(9, 0)  # 9:00 AM\n",
    "    end_time = time(16, 0)   # 4:00 PM\n",
    "\n",
    "    # Check if current time is between start and end times\n",
    "    return start_time <= current_time <= end_time\n",
    "\n",
    "# Example usage:\n",
    "if market_hours():\n",
    "    print(\"The current time is between 9 AM and 4 PM.\")\n",
    "else:\n",
    "    print(\"The current time is not between 9 AM and 4 PM.\")"
   ]
  }
 ],
 "metadata": {
  "kernelspec": {
   "display_name": "kite",
   "language": "python",
   "name": "python3"
  },
  "language_info": {
   "codemirror_mode": {
    "name": "ipython",
    "version": 3
   },
   "file_extension": ".py",
   "mimetype": "text/x-python",
   "name": "python",
   "nbconvert_exporter": "python",
   "pygments_lexer": "ipython3",
   "version": "3.11.8"
  }
 },
 "nbformat": 4,
 "nbformat_minor": 2
}
