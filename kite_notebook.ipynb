{
 "cells": [
  {
   "cell_type": "code",
   "execution_count": 1,
   "metadata": {},
   "outputs": [],
   "source": [
    "from kiteconnect import KiteConnect\n",
    "from datetime import datetime,timedelta\n",
    "import pandas as pd\n",
    "import plotly.graph_objects as go"
   ]
  },
  {
   "cell_type": "code",
   "execution_count": 2,
   "metadata": {},
   "outputs": [],
   "source": [
    "kite = KiteConnect(api_key=\"3np0d05xqq02k905\")\n",
    "kite.set_access_token(\"uS1z1psPljc3OOlgDQLeUjWMEifASGHZ\")\n",
    "# df_instruments=pd.DataFrame(kite.instruments())"
   ]
  },
  {
   "cell_type": "code",
   "execution_count": 3,
   "metadata": {},
   "outputs": [],
   "source": [
    "def get_candle_fig(instrument_code,start,end,interval):\n",
    "    df_historical=pd.DataFrame(kite.historical_data(instrument_code,start,end,interval))\n",
    "    if len(df_historical)>0:\n",
    "        fig = go.Figure(data=[go.Candlestick(x=df_historical['date'],\n",
    "                        open=df_historical['open'],\n",
    "                        high=df_historical['high'],\n",
    "                        low=df_historical['low'],\n",
    "                        close=df_historical['close'])])\n",
    "        return (fig,df_historical)\n",
    "    else:\n",
    "        return (None,pd.DataFrame())\n",
    "    \n",
    "def get_candle(instrument_code,start,end,interval):\n",
    "    df_historical=pd.DataFrame(kite.historical_data(instrument_code,start,end,interval))\n",
    "    if len(df_historical)>0:\n",
    "        return (df_historical)\n",
    "    else:\n",
    "        return (pd.DataFrame())"
   ]
  },
  {
   "cell_type": "code",
   "execution_count": 24,
   "metadata": {},
   "outputs": [],
   "source": [
    "def get_candle_signal(instrument_code,sample_size):\n",
    "    try:\n",
    "        df_summary=pd.DataFrame()\n",
    "        for i in range(sample_size):\n",
    "            start=((datetime.now()+timedelta(days=-i)).strftime(\"%Y-%m-%d\"))+\" 09:00:00\"\n",
    "            end=((datetime.now()+timedelta(days=-i)).strftime(\"%Y-%m-%d\"))+\" 16:00:00\"\n",
    "            interval=\"5minute\"\n",
    "            df_historical=get_candle(instrument_code,start,end,interval)\n",
    "            \n",
    "            if len(df_historical)>0:\n",
    "                df_historical['change']=df_historical['close']-df_historical['open']\n",
    "                df_historical['candle_type']=df_historical['change'].apply(lambda x:'green' if x>0 else 'red')\n",
    "                try:\n",
    "                    candle_ratio= ((df_historical['candle_type'].value_counts()['green'])/(df_historical['candle_type'].count()))\n",
    "                except:\n",
    "                    candle_ratio=0\n",
    "                df_summary_dict={'day':end,\n",
    "                                'candle_ratio':candle_ratio}\n",
    "                df_temp=pd.DataFrame([df_summary_dict])\n",
    "                df_summary=pd.concat([df_summary,df_temp])\n",
    "        return ((sum(df_summary['candle_ratio'])*2)/sample_size)\n",
    "    except:\n",
    "        return 0\n",
    "    \n",
    "def get_candle_signal_2(instrument_code,sample_size):\n",
    "    try:\n",
    "        df_summary=pd.DataFrame()\n",
    "        for i in range(sample_size):\n",
    "            start=((datetime.now()+timedelta(days=-i)).strftime(\"%Y-%m-%d\"))+\" 09:00:00\"\n",
    "            end=((datetime.now()+timedelta(days=-i)).strftime(\"%Y-%m-%d\"))+\" 16:00:00\"\n",
    "            interval=\"5minute\"\n",
    "            df_historical=get_candle(instrument_code,start,end,interval)\n",
    "            \n",
    "            if len(df_historical)>0:\n",
    "                df_historical['change']=df_historical['close']-df_historical['open']\n",
    "                df_historical['candle_type']=df_historical['change'].apply(lambda x:'green' if x>0 else 'red')\n",
    "                try:\n",
    "                    candle_ratio= ((df_historical['candle_type'].value_counts()['green'])/(df_historical['candle_type'].count()))\n",
    "                except:\n",
    "                    candle_ratio=0\n",
    "                df_summary_dict={'day':end,\n",
    "                                'candle_ratio':candle_ratio}\n",
    "                df_temp=pd.DataFrame([df_summary_dict])\n",
    "                df_summary=pd.concat([df_summary,df_temp])\n",
    "        return (len(df_summary[df_summary['candle_ratio']>0.5])/len(df_summary))\n",
    "    except:\n",
    "        return 0\n",
    "    \n",
    "def get_candle_signal_3(instrument_code,sample_size):\n",
    "    try:\n",
    "        df_summary=pd.DataFrame()\n",
    "        for i in range(sample_size):\n",
    "            start=((datetime.now()+timedelta(days=-i)).strftime(\"%Y-%m-%d\"))+\" 09:00:00\"\n",
    "            end=((datetime.now()+timedelta(days=-i)).strftime(\"%Y-%m-%d\"))+\" 16:00:00\"\n",
    "            interval=\"5minute\"\n",
    "            df_historical=get_candle(instrument_code,start,end,interval)\n",
    "            \n",
    "            if len(df_historical)>0:\n",
    "                df_historical['change']=df_historical['close']-df_historical['open']\n",
    "                df_historical['candle_type']=df_historical['change'].apply(lambda x:1 if x>0 else -1)\n",
    "                df_historical['candle_weight']=df_historical['change'].abs()/df_historical['change'].abs().max()\n",
    "                df_historical['candle_strength']=df_historical['candle_type']*df_historical['candle_weight']\n",
    "                try:\n",
    "                    candle_ratio= sum(df_historical['candle_strength'])\n",
    "                except:\n",
    "                    candle_ratio=0\n",
    "                df_summary_dict={'day':end,\n",
    "                                'candle_ratio':candle_ratio}\n",
    "                df_temp=pd.DataFrame([df_summary_dict])\n",
    "                df_summary=pd.concat([df_summary,df_temp])\n",
    "        return ((sum(df_summary['candle_ratio']))/sample_size)\n",
    "    except:\n",
    "        return 0"
   ]
  },
  {
   "cell_type": "code",
   "execution_count": 9,
   "metadata": {},
   "outputs": [],
   "source": [
    "df_instruments1=pd.read_excel('final_instruments.xlsx')\n",
    "df_instruments1['signal_1']=df_instruments1['instrument_token'].apply(lambda x: get_candle_signal(x,31))\n",
    "df_instruments1['signal_2']=df_instruments1['instrument_token'].apply(lambda x: get_candle_signal_2(x,31))"
   ]
  },
  {
   "cell_type": "code",
   "execution_count": 16,
   "metadata": {},
   "outputs": [],
   "source": [
    "df_instruments1['signal_1_7d']=df_instruments1['instrument_token'].apply(lambda x: get_candle_signal(x,7))\n",
    "df_instruments1['signal_2_7d']=df_instruments1['instrument_token'].apply(lambda x: get_candle_signal_2(x,7))"
   ]
  },
  {
   "cell_type": "code",
   "execution_count": 25,
   "metadata": {},
   "outputs": [],
   "source": [
    "df_instruments1['signal_3_7d']=df_instruments1['instrument_token'].apply(lambda x: get_candle_signal_3(x,7))\n"
   ]
  },
  {
   "cell_type": "code",
   "execution_count": 28,
   "metadata": {},
   "outputs": [],
   "source": [
    "df_instruments1['signal_3_31d']=df_instruments1['instrument_token'].apply(lambda x: get_candle_signal_3(x,31))"
   ]
  },
  {
   "cell_type": "code",
   "execution_count": 30,
   "metadata": {},
   "outputs": [],
   "source": [
    "df_instruments1.sort_values(by=\"signal_3_31d\",ascending=False).reset_index(drop=True).to_csv('weighted_final_shortlist.csv',index=False)"
   ]
  },
  {
   "cell_type": "code",
   "execution_count": 19,
   "metadata": {},
   "outputs": [],
   "source": [
    "sample_size=7\n",
    "instrument_code=2865921\n",
    "df_summary=pd.DataFrame()\n",
    "for i in range(sample_size):\n",
    "    start=((datetime.now()+timedelta(days=-i)).strftime(\"%Y-%m-%d\"))+\" 09:00:00\"\n",
    "    end=((datetime.now()+timedelta(days=-i)).strftime(\"%Y-%m-%d\"))+\" 16:00:00\"\n",
    "    interval=\"5minute\"\n",
    "    df_historical=get_candle(instrument_code,start,end,interval)\n",
    "    \n",
    "    if len(df_historical)>0:\n",
    "        df_historical['change']=df_historical['close']-df_historical['open']\n",
    "        df_historical['candle_type']=df_historical['change'].apply(lambda x:1 if x>0 else -1)\n",
    "        df_historical['candle_weight']=df_historical['change'].abs()/df_historical['change'].abs().max()\n",
    "        df_historical['candle_strength']=df_historical['candle_type']*df_historical['candle_weight']\n",
    "        try:\n",
    "            candle_ratio= ((df_historical['candle_type'].value_counts()['green'])/(df_historical['candle_type'].count()))\n",
    "        except:\n",
    "            candle_ratio=0\n",
    "        df_summary_dict={'day':end,\n",
    "                        'candle_ratio':candle_ratio}\n",
    "        df_temp=pd.DataFrame([df_summary_dict])\n",
    "        df_summary=pd.concat([df_summary,df_temp])"
   ]
  },
  {
   "cell_type": "code",
   "execution_count": 23,
   "metadata": {},
   "outputs": [
    {
     "data": {
      "text/plain": [
       "-0.48453608247427693"
      ]
     },
     "execution_count": 23,
     "metadata": {},
     "output_type": "execute_result"
    }
   ],
   "source": [
    "dff=df_historical.sort_values(by='change')\n",
    "sum(dff['candle_strength'])"
   ]
  },
  {
   "cell_type": "code",
   "execution_count": null,
   "metadata": {},
   "outputs": [],
   "source": [
    "\n",
    "# Place an order\n",
    "order_id = kite.place_order(tradingsymbol=\"INFY\",\n",
    "                            exchange=kite.EXCHANGE_NSE,\n",
    "                            transaction_type=kite.TRANSACTION_TYPE_BUY,\n",
    "                            quantity=1,\n",
    "                            variety=kite.VARIETY_AMO,\n",
    "                            order_type=kite.ORDER_TYPE_MARKET,\n",
    "                            product=kite.PRODUCT_CNC,\n",
    "                            validity=kite.VALIDITY_DAY)\n",
    "\n",
    "\n",
    "\n",
    "# Fetch all orders\n",
    "kite.orders()\n",
    "\n",
    "# Get instruments\n",
    "kite.instruments()\n",
    "\n",
    "# Place an mutual fund order\n",
    "kite.place_mf_order(\n",
    "    tradingsymbol=\"INF090I01239\",\n",
    "    transaction_type=kite.TRANSACTION_TYPE_BUY,\n",
    "    amount=5000,\n",
    "    tag=\"mytag\"\n",
    ")\n",
    "\n",
    "# Cancel a mutual fund order\n",
    "kite.cancel_mf_order(order_id=\"order_id\")\n",
    "\n",
    "# Get mutual fund instruments\n",
    "kite.mf_instruments()"
   ]
  },
  {
   "cell_type": "code",
   "execution_count": 18,
   "metadata": {},
   "outputs": [
    {
     "ename": "AttributeError",
     "evalue": "'int' object has no attribute 'abs'",
     "output_type": "error",
     "traceback": [
      "\u001b[1;31m---------------------------------------------------------------------------\u001b[0m",
      "\u001b[1;31mAttributeError\u001b[0m                            Traceback (most recent call last)",
      "Cell \u001b[1;32mIn[18], line 2\u001b[0m\n\u001b[0;32m      1\u001b[0m a\u001b[38;5;241m=\u001b[39m\u001b[38;5;241m-\u001b[39m\u001b[38;5;241m1\u001b[39m\n\u001b[1;32m----> 2\u001b[0m \u001b[43ma\u001b[49m\u001b[38;5;241;43m.\u001b[39;49m\u001b[43mabs\u001b[49m()\n",
      "\u001b[1;31mAttributeError\u001b[0m: 'int' object has no attribute 'abs'"
     ]
    }
   ],
   "source": [
    "a=-1\n",
    "a.abs()"
   ]
  },
  {
   "cell_type": "code",
   "execution_count": null,
   "metadata": {},
   "outputs": [],
   "source": []
  }
 ],
 "metadata": {
  "kernelspec": {
   "display_name": "kite",
   "language": "python",
   "name": "python3"
  },
  "language_info": {
   "codemirror_mode": {
    "name": "ipython",
    "version": 3
   },
   "file_extension": ".py",
   "mimetype": "text/x-python",
   "name": "python",
   "nbconvert_exporter": "python",
   "pygments_lexer": "ipython3",
   "version": "3.11.8"
  }
 },
 "nbformat": 4,
 "nbformat_minor": 2
}
